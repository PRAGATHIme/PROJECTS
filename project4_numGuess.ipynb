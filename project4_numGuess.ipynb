{
 "cells": [
  {
   "cell_type": "code",
   "execution_count": 8,
   "id": "3c953d01-dd77-476b-b62f-6b3fd22ad03b",
   "metadata": {},
   "outputs": [
    {
     "name": "stdin",
     "output_type": "stream",
     "text": [
      "Enter the lower range:  10\n",
      "Enter the upper range:  20\n",
      "Guess the number:  15\n"
     ]
    },
    {
     "name": "stdout",
     "output_type": "stream",
     "text": [
      "Yayy!!! You guessed it!\n"
     ]
    }
   ],
   "source": [
    "import random\n",
    "import math\n",
    "def guessgame():\n",
    "    low = int(input(\"Enter the lower range: \"))\n",
    "    up = int(input(\"Enter the upper range: \"))\n",
    "    num = random.randint(int(low), int(up))\n",
    "    guess = int(input(\"Guess the number: \"))\n",
    "    while guess != num:\n",
    "        if (guess < num or guess > num):\n",
    "            print(\"Refer the range u gave!\")\n",
    "        else:\n",
    "            print(\"Wrong guess!\")\n",
    "    if guess == num:\n",
    "        print(\"Yayy!!! You guessed it!\")\n",
    "guessgame()        \n",
    "        "
   ]
  },
  {
   "cell_type": "code",
   "execution_count": null,
   "id": "47f5506d-3cb6-4084-9080-d935a2b44b42",
   "metadata": {},
   "outputs": [],
   "source": []
  }
 ],
 "metadata": {
  "kernelspec": {
   "display_name": "Python 3 (ipykernel)",
   "language": "python",
   "name": "python3"
  },
  "language_info": {
   "codemirror_mode": {
    "name": "ipython",
    "version": 3
   },
   "file_extension": ".py",
   "mimetype": "text/x-python",
   "name": "python",
   "nbconvert_exporter": "python",
   "pygments_lexer": "ipython3",
   "version": "3.12.4"
  }
 },
 "nbformat": 4,
 "nbformat_minor": 5
}
