{
 "cells": [
  {
   "cell_type": "code",
   "execution_count": null,
   "id": "3bed91e7-a6f5-4ca7-91f4-e4be9b863a5a",
   "metadata": {},
   "outputs": [],
   "source": [
    "def replace_word():\n",
    "    str = \"Hi fellas, i am patati, and hlooo hlooo hlooo\"\n",
    "    word_to_replace = input(\"Enter the word to replace: \")\n",
    "    word_replacement = input(\"Enter the word replacement: \")\n",
    "    print(str.replace(word_to_replace,word_replacement))\n",
    "\n",
    "replace_word()"
   ]
  }
 ],
 "metadata": {
  "kernelspec": {
   "display_name": "Python 3 (ipykernel)",
   "language": "python",
   "name": "python3"
  },
  "language_info": {
   "codemirror_mode": {
    "name": "ipython",
    "version": 3
   },
   "file_extension": ".py",
   "mimetype": "text/x-python",
   "name": "python",
   "nbconvert_exporter": "python",
   "pygments_lexer": "ipython3",
   "version": "3.12.4"
  }
 },
 "nbformat": 4,
 "nbformat_minor": 5
}
