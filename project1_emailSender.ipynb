{
 "cells": [
  {
   "cell_type": "code",
   "execution_count": 10,
   "id": "a4f1d614-4e59-4b9c-962e-5b6cbf29c6a2",
   "metadata": {},
   "outputs": [],
   "source": [
    "from email.message import EmailMessage\n",
    "\n",
    "import ssl \n",
    "import smtplib\n",
    "email_sender = 'pragathi4304@gmail.com'\n",
    "email_password = 'nuho fveb vcjd lnnc'\n",
    "\n",
    "email_receiver = 'hogoh87945@paxnw.com' \n",
    "\n",
    "subject = \"Dont forget to eat\"\n",
    "body = \"\"\"\n",
    "hi bbg love urself lots!!!\n",
    "patatiii\n",
    "\n",
    "\"\"\"\n",
    "em = EmailMessage()\n",
    "em['From'] = email_sender\n",
    "em['To'] = email_receiver\n",
    "em['Subject'] = subject\n",
    "em.set_content(body)\n",
    "\n",
    "\n",
    "context = ssl.create_default_context()\n",
    "\n",
    "with smtplib.SMTP_SSL('smtp.gmail.com',465,context = context) as smtp:\n",
    "    smtp.login(email_sender,email_password)\n",
    "    smtp.sendmail(email_sender,email_receiver,em.as_string())\n"
   ]
  },
  {
   "cell_type": "code",
   "execution_count": null,
   "id": "671a57a1-868d-4d9a-b31e-e73c15fdb529",
   "metadata": {},
   "outputs": [],
   "source": []
  }
 ],
 "metadata": {
  "kernelspec": {
   "display_name": "Python 3 (ipykernel)",
   "language": "python",
   "name": "python3"
  },
  "language_info": {
   "codemirror_mode": {
    "name": "ipython",
    "version": 3
   },
   "file_extension": ".py",
   "mimetype": "text/x-python",
   "name": "python",
   "nbconvert_exporter": "python",
   "pygments_lexer": "ipython3",
   "version": "3.12.4"
  }
 },
 "nbformat": 4,
 "nbformat_minor": 5
}
