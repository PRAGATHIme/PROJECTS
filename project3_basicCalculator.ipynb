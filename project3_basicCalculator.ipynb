{
 "cells": [
  {
   "cell_type": "code",
   "execution_count": 4,
   "id": "c3f730b7-44b4-4cee-b4bf-07fe806df970",
   "metadata": {},
   "outputs": [
    {
     "name": "stdin",
     "output_type": "stream",
     "text": [
      "Enter the first number:  23\n",
      "Enter the second number:  34\n",
      "Enter the operator (+, -, *, /):  +\n"
     ]
    },
    {
     "name": "stdout",
     "output_type": "stream",
     "text": [
      "57.0\n"
     ]
    },
    {
     "name": "stdin",
     "output_type": "stream",
     "text": [
      "Do you want to calculate again? (yes/no):  no\n"
     ]
    },
    {
     "name": "stdout",
     "output_type": "stream",
     "text": [
      "Goodbye!\n"
     ]
    }
   ],
   "source": [
    "def calculator():\n",
    "    num1 = float(input(\"Enter the first number: \"))\n",
    "    num2 = float(input(\"Enter the second number: \"))\n",
    "    operator = input(\"Enter the operator (+, -, *, /): \")\n",
    "    if operator == \"+\":\n",
    "        print(num1 + num2)\n",
    "    elif operator == \"-\":\n",
    "        print(num1 - num2)\n",
    "    elif operator == \"*\":\n",
    "        print(num1 * num2)\n",
    "    elif operator == \"/\":\n",
    "        if num2 != 0:\n",
    "            print(num1 / num2)\n",
    "        else:\n",
    "            print(\"Error! Division by zero is not allowed.\")\n",
    "    else:\n",
    "        print(\"Invalid operator. Please enter one of the following: +, -, *, /\")\n",
    "    again = input(\"Do you want to calculate again? (yes/no): \")\n",
    "    if again.lower() == \"yes\":\n",
    "        calculator()\n",
    "    else:\n",
    "        print(\"Goodbye!\")\n",
    "        return\n",
    "calculator()\n"
   ]
  },
  {
   "cell_type": "code",
   "execution_count": null,
   "id": "22efb23b-c725-4098-88a1-bf6dd1cfca48",
   "metadata": {},
   "outputs": [],
   "source": []
  }
 ],
 "metadata": {
  "kernelspec": {
   "display_name": "Python 3 (ipykernel)",
   "language": "python",
   "name": "python3"
  },
  "language_info": {
   "codemirror_mode": {
    "name": "ipython",
    "version": 3
   },
   "file_extension": ".py",
   "mimetype": "text/x-python",
   "name": "python",
   "nbconvert_exporter": "python",
   "pygments_lexer": "ipython3",
   "version": "3.12.4"
  }
 },
 "nbformat": 4,
 "nbformat_minor": 5
}
