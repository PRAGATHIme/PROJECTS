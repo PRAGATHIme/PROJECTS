{
 "cells": [
  {
   "cell_type": "code",
   "execution_count": 7,
   "id": "c8a7b38c-223f-4cde-bb39-3861c0a3aabf",
   "metadata": {},
   "outputs": [
    {
     "name": "stdout",
     "output_type": "stream",
     "text": [
      "Winning rules of the game ROCK PAPER SCISSORS are:\n",
      "Rock vs Paper -> Paper wins \n",
      "Rock vs Scissors -> Rock wins \n",
      "Paper vs Scissors -> Scissors wins \n",
      "\n",
      "\n",
      "Welcome to Rock Paper Scissors Game!\n",
      "\n",
      "Game Rules\n",
      " Press 1 for Rock\n",
      " Press 2 for Paper\n",
      " Press 3 for Scissors\n"
     ]
    },
    {
     "name": "stdin",
     "output_type": "stream",
     "text": [
      "\n",
      "Enter your choice:  1\n"
     ]
    },
    {
     "name": "stdout",
     "output_type": "stream",
     "text": [
      "You chose: Rock\n",
      "Computer chose: Rock\n",
      "\n",
      "Result: It's a Draw!\n"
     ]
    },
    {
     "name": "stdin",
     "output_type": "stream",
     "text": [
      "\n",
      "Do you want to play again? (Y/N):  y\n"
     ]
    },
    {
     "name": "stdout",
     "output_type": "stream",
     "text": [
      "\n",
      "Welcome to Rock Paper Scissors Game!\n",
      "\n",
      "Game Rules\n",
      " Press 1 for Rock\n",
      " Press 2 for Paper\n",
      " Press 3 for Scissors\n"
     ]
    },
    {
     "name": "stdin",
     "output_type": "stream",
     "text": [
      "\n",
      "Enter your choice:  3\n"
     ]
    },
    {
     "name": "stdout",
     "output_type": "stream",
     "text": [
      "You chose: Scissors\n",
      "Computer chose: Paper\n",
      "\n",
      "Result: ***You won!*** 🎉\n"
     ]
    },
    {
     "name": "stdin",
     "output_type": "stream",
     "text": [
      "\n",
      "Do you want to play again? (Y/N):  y\n"
     ]
    },
    {
     "name": "stdout",
     "output_type": "stream",
     "text": [
      "\n",
      "Welcome to Rock Paper Scissors Game!\n",
      "\n",
      "Game Rules\n",
      " Press 1 for Rock\n",
      " Press 2 for Paper\n",
      " Press 3 for Scissors\n"
     ]
    },
    {
     "name": "stdin",
     "output_type": "stream",
     "text": [
      "\n",
      "Enter your choice:  2\n"
     ]
    },
    {
     "name": "stdout",
     "output_type": "stream",
     "text": [
      "You chose: Paper\n",
      "Computer chose: Paper\n",
      "\n",
      "Result: It's a Draw!\n"
     ]
    },
    {
     "name": "stdin",
     "output_type": "stream",
     "text": [
      "\n",
      "Do you want to play again? (Y/N):  n\n"
     ]
    },
    {
     "name": "stdout",
     "output_type": "stream",
     "text": [
      "\n",
      "Thanks for playing!\n"
     ]
    }
   ],
   "source": [
    "from random import randint\n",
    "\n",
    "print('Winning rules of the game ROCK PAPER SCISSORS are:\\n'\n",
    "      \"Rock vs Paper -> Paper wins \\n\"\n",
    "      \"Rock vs Scissors -> Rock wins \\n\"\n",
    "      \"Paper vs Scissors -> Scissors wins \\n\")\n",
    "\n",
    "while True:\n",
    "    print(\"\\nWelcome to Rock Paper Scissors Game!\")\n",
    "    print(\"\\nGame Rules\\n Press 1 for Rock\\n Press 2 for Paper\\n Press 3 for Scissors\")\n",
    "    \n",
    "    choice = int(input(\"\\nEnter your choice: \"))\n",
    "    \n",
    "    if choice > 3 or choice < 1:\n",
    "        print(\"\\nInvalid choice! Please enter again.\\n\")\n",
    "        continue  \n",
    "\n",
    "    choices = {1: \"Rock\", 2: \"Paper\", 3: \"Scissors\"}\n",
    "    player_choice = choices[choice]\n",
    "\n",
    "    comp = randint(1, 3)  \n",
    "    comp_choice = choices[comp]\n",
    "\n",
    "    print(f\"You chose: {player_choice}\")\n",
    "    print(f\"Computer chose: {comp_choice}\")\n",
    "\n",
    "    # Determine the winner\n",
    "    if player_choice == comp_choice:\n",
    "        result = \"It's a Draw!\"\n",
    "    elif (player_choice == \"Rock\" and comp_choice == \"Scissors\") or \\\n",
    "         (player_choice == \"Paper\" and comp_choice == \"Rock\") or \\\n",
    "         (player_choice == \"Scissors\" and comp_choice == \"Paper\"):\n",
    "        result = \"***You won!*** 🎉\"\n",
    "    else:\n",
    "        result = \"***Computer won!*** 😢\"\n",
    "\n",
    "    print(\"\\nResult:\", result)\n",
    "\n",
    "    # Asking to play again\n",
    "    ch = input(\"\\nDo you want to play again? (Y/N): \").strip().lower()\n",
    "    if ch == 'n':\n",
    "        break\n",
    "\n",
    "print(\"\\nThanks for playing!\")\n"
   ]
  },
  {
   "cell_type": "code",
   "execution_count": null,
   "id": "fece1682-8a64-40a8-aa83-afb7368a5428",
   "metadata": {},
   "outputs": [],
   "source": []
  }
 ],
 "metadata": {
  "kernelspec": {
   "display_name": "Python 3 (ipykernel)",
   "language": "python",
   "name": "python3"
  },
  "language_info": {
   "codemirror_mode": {
    "name": "ipython",
    "version": 3
   },
   "file_extension": ".py",
   "mimetype": "text/x-python",
   "name": "python",
   "nbconvert_exporter": "python",
   "pygments_lexer": "ipython3",
   "version": "3.12.7"
  }
 },
 "nbformat": 4,
 "nbformat_minor": 5
}
